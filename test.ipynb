{
  "nbformat": 4,
  "nbformat_minor": 0,
  "metadata": {
    "colab": {
      "provenance": [],
      "authorship_tag": "ABX9TyPSbGR0XYy+pnr+8ANEQTIa",
      "include_colab_link": true
    },
    "kernelspec": {
      "name": "python3",
      "display_name": "Python 3"
    },
    "language_info": {
      "name": "python"
    }
  },
  "cells": [
    {
      "cell_type": "markdown",
      "metadata": {
        "id": "view-in-github",
        "colab_type": "text"
      },
      "source": [
        "<a href=\"https://colab.research.google.com/github/f-bndk/test_completed/blob/main/test.ipynb\" target=\"_parent\"><img src=\"https://colab.research.google.com/assets/colab-badge.svg\" alt=\"Open In Colab\"/></a>"
      ]
    },
    {
      "cell_type": "code",
      "execution_count": null,
      "metadata": {
        "id": "xA0uHZfNUKkM"
      },
      "outputs": [],
      "source": [
        "import datetime\n",
        "import numpy as np\n",
        "import pandas as pd\n",
        "import matplotlib.pyplot as plt\n",
        "pd.options.mode.chained_assignment = None"
      ]
    },
    {
      "cell_type": "code",
      "source": [
        "#подключение google drive\n",
        "from google.colab import drive\n",
        "drive.mount('/content/drive')"
      ],
      "metadata": {
        "colab": {
          "base_uri": "https://localhost:8080/"
        },
        "id": "U8hk2q2WdlZN",
        "outputId": "1d3f01f9-039f-4ec7-8249-25932eb2f3f2"
      },
      "execution_count": null,
      "outputs": [
        {
          "output_type": "stream",
          "name": "stdout",
          "text": [
            "Drive already mounted at /content/drive; to attempt to forcibly remount, call drive.mount(\"/content/drive\", force_remount=True).\n"
          ]
        }
      ]
    },
    {
      "cell_type": "code",
      "source": [
        "#загрузка xlsx файла\n",
        "df = pd.read_excel('/content/drive/MyDrive/data.xlsx')\n",
        "df.info()"
      ],
      "metadata": {
        "colab": {
          "base_uri": "https://localhost:8080/"
        },
        "id": "53GFnaKplJyp",
        "outputId": "d4ec1e01-ccf4-416e-e138-eba7c974d170"
      },
      "execution_count": null,
      "outputs": [
        {
          "output_type": "stream",
          "name": "stdout",
          "text": [
            "<class 'pandas.core.frame.DataFrame'>\n",
            "RangeIndex: 730 entries, 0 to 729\n",
            "Data columns (total 8 columns):\n",
            " #   Column          Non-Null Count  Dtype  \n",
            "---  ------          --------------  -----  \n",
            " 0   client_id       724 non-null    float64\n",
            " 1   sum             724 non-null    float64\n",
            " 2   status          730 non-null    object \n",
            " 3   sale            724 non-null    object \n",
            " 4   new/current     724 non-null    object \n",
            " 5   Unnamed: 5      0 non-null      float64\n",
            " 6   document        709 non-null    object \n",
            " 7   receiving_date  607 non-null    object \n",
            "dtypes: float64(3), object(5)\n",
            "memory usage: 45.8+ KB\n"
          ]
        }
      ]
    },
    {
      "cell_type": "code",
      "source": [
        "#удаление пустого столбца\n",
        "df.dropna(how = 'all', axis='columns', inplace=True)\n",
        "#индекс начинается с 1\n",
        "df.index = np.arange(1, len(df) + 1)\n",
        "#создание столбца из индекса\n",
        "df['id'] = df.index\n",
        "#создание копии столбца (status) с другим лейблом (month)\n",
        "df['month'] = df.loc[:, 'status']\n",
        "#изменение порядка столбцов\n",
        "df = df[['id','client_id','sum','status','month','sale','new/current','document', 'receiving_date']]\n",
        "df.info()"
      ],
      "metadata": {
        "colab": {
          "base_uri": "https://localhost:8080/"
        },
        "id": "zrTizVFsxRdy",
        "outputId": "89658be1-24f1-4699-b846-93990549f132"
      },
      "execution_count": null,
      "outputs": [
        {
          "output_type": "stream",
          "name": "stdout",
          "text": [
            "<class 'pandas.core.frame.DataFrame'>\n",
            "Int64Index: 730 entries, 1 to 730\n",
            "Data columns (total 9 columns):\n",
            " #   Column          Non-Null Count  Dtype  \n",
            "---  ------          --------------  -----  \n",
            " 0   id              730 non-null    int64  \n",
            " 1   client_id       724 non-null    float64\n",
            " 2   sum             724 non-null    float64\n",
            " 3   status          730 non-null    object \n",
            " 4   month           730 non-null    object \n",
            " 5   sale            724 non-null    object \n",
            " 6   new/current     724 non-null    object \n",
            " 7   document        709 non-null    object \n",
            " 8   receiving_date  607 non-null    object \n",
            "dtypes: float64(2), int64(1), object(6)\n",
            "memory usage: 57.0+ KB\n"
          ]
        }
      ]
    },
    {
      "cell_type": "code",
      "source": [
        "#замена значение в столбце month\n",
        "df.loc[df['id'].between(2, 129), 'month'] = '2021-05'\n",
        "df.loc[df['id'].between(131, 258), 'month'] = '2021-06'\n",
        "df.loc[df['id'].between(260, 369), 'month'] = '2021-07'\n",
        "df.loc[df['id'].between(371, 484), 'month'] = '2021-08'\n",
        "df.loc[df['id'].between(486, 594), 'month'] = '2021-09'\n",
        "df.loc[df['id'].between(596, 730), 'month'] = '2021-10'"
      ],
      "metadata": {
        "id": "h6ioRl6-skFn"
      },
      "execution_count": null,
      "outputs": []
    },
    {
      "cell_type": "code",
      "source": [
        "#замена значение в столбце month\n",
        "df['month'] = df['month'].replace(['Май 2021', 'Июнь 2021', 'Июль 2021', 'Август 2021', 'Сентябрь 2021', 'Октябрь 2021'], np.nan)"
      ],
      "metadata": {
        "id": "k64v4tBRUB4l"
      },
      "execution_count": null,
      "outputs": []
    },
    {
      "cell_type": "code",
      "source": [
        "#конвертация столбца month в datetime\n",
        "df['month'] = pd.to_datetime(df['month'])\n",
        "df['month'] = df['month'].dt.strftime('%Y-%m')\n",
        "#конвертация столбца receiving_date в datetime\n",
        "df['receiving_date'] = pd.to_datetime(df['receiving_date'], errors=\"coerce\")"
      ],
      "metadata": {
        "id": "eyK4TwOiUtHr"
      },
      "execution_count": null,
      "outputs": []
    },
    {
      "cell_type": "code",
      "source": [
        "#1 вопрос - общая выручка за июль, только оплаченные сделки\n",
        "df.loc[(df['month'] == '2021-07') & (df['status'] == 'ОПЛАЧЕНО'), 'sum'].sum()"
      ],
      "metadata": {
        "colab": {
          "base_uri": "https://localhost:8080/"
        },
        "id": "xdKPZzxdW6Cy",
        "outputId": "2f89748c-3eee-446e-f5f8-cac898f2452e"
      },
      "execution_count": null,
      "outputs": [
        {
          "output_type": "execute_result",
          "data": {
            "text/plain": [
              "859896.4699999997"
            ]
          },
          "metadata": {},
          "execution_count": 111
        }
      ]
    },
    {
      "cell_type": "code",
      "source": [
        "#2 вопрос - динамика выручки за рассматриваемый период\n",
        "income_by_month = df.groupby('month')['sum'].sum()\n",
        "income_by_month.plot(kind='bar', title='Выручка по месяцам', ylabel='Выручка', xlabel='Месяц')\n",
        "plt.xticks(rotation=0)\n",
        "plt.show(income_by_month.plot)"
      ],
      "metadata": {
        "colab": {
          "base_uri": "https://localhost:8080/",
          "height": 477
        },
        "id": "O5uxXPhfYPDz",
        "outputId": "14107367-5ff9-4e3a-e7e5-fc6366e77b64"
      },
      "execution_count": null,
      "outputs": [
        {
          "output_type": "display_data",
          "data": {
            "text/plain": [
              "<Figure size 640x480 with 1 Axes>"
            ],
            "image/png": "[encoded data removed]"
          },
          "metadata": {}
        }
      ]
    },
    {
      "cell_type": "code",
      "source": [
        "#3 вопрос - кто из менеджеров привлёк больше всего денежных средств для компании в сентябре\n",
        "df_september = df.loc[df['month'] == '2021-09']\n",
        "sales_by_mngr = df_september.groupby('sale')['sum'].sum()\n",
        "sales_by_mngr.plot(kind='barh', title='Привлечено по менеджерам за сентябрь', ylabel='Менеджер')\n",
        "plt.show(sales_by_mngr.plot)"
      ],
      "metadata": {
        "colab": {
          "base_uri": "https://localhost:8080/",
          "height": 454
        },
        "id": "1igHfa-oaeRQ",
        "outputId": "e9b64997-0f54-4279-e781-0e486061feca"
      },
      "execution_count": null,
      "outputs": [
        {
          "output_type": "display_data",
          "data": {
            "text/plain": [
              "<Figure size 640x480 with 1 Axes>"
            ],
            "image/png": "[encoded data removed]"
          },
          "metadata": {}
        }
      ]
    },
    {
      "cell_type": "code",
      "source": [
        "#4 вопрос - преобладающий тип сделки в октябре\n",
        "df_october = df.loc[df['month'] == '2021-10']\n",
        "count_dealtype = df_october['new/current'].value_counts()\n",
        "count_dealtype.plot(kind='bar', title='Преобладающий тип сделки')\n",
        "plt.xticks(rotation=0)\n",
        "plt.show(count_dealtype.plot)"
      ],
      "metadata": {
        "colab": {
          "base_uri": "https://localhost:8080/",
          "height": 454
        },
        "id": "ZuEmWdaRiVx1",
        "outputId": "e48fec8f-084e-4044-ce75-dde64dce0cf5"
      },
      "execution_count": null,
      "outputs": [
        {
          "output_type": "display_data",
          "data": {
            "text/plain": [
              "<Figure size 640x480 with 1 Axes>"
            ],
            "image/png": "[encoded data removed]"
          },
          "metadata": {}
        }
      ]
    },
    {
      "cell_type": "code",
      "source": [
        "#5 вопрос - посчитаны оригиналы договоров по майским сделкам полученные в июне\n",
        "df_may = df.loc[df['month'] == '2021-05']\n",
        "df_JuneInMay = df_may[df_may['receiving_date'].dt.month == 6]\n",
        "count_docType = df_JuneInMay['document'].value_counts()\n",
        "display(count_docType)"
      ],
      "metadata": {
        "colab": {
          "base_uri": "https://localhost:8080/",
          "height": 52
        },
        "id": "3KUd7lOAjn7e",
        "outputId": "496b6c85-d591-4fb5-9e82-cd582dc19220"
      },
      "execution_count": null,
      "outputs": [
        {
          "output_type": "display_data",
          "data": {
            "text/plain": [
              "оригинал    76\n",
              "Name: document, dtype: int64"
            ]
          },
          "metadata": {}
        }
      ]
    },
    {
      "cell_type": "markdown",
      "source": [],
      "metadata": {
        "id": "OckP8mgen2cu"
      }
    },
    {
      "cell_type": "markdown",
      "source": [
        "#ЗАДАНИЕ"
      ],
      "metadata": {
        "id": "Ni3pix-Pn2e3"
      }
    },
    {
      "cell_type": "code",
      "source": [
        "#выбор расчетного месяца до июля\n",
        "MayJune=['2021-05','2021-06']\n",
        "df_MayJune= (df[df['month'].isin(MayJune)])"
      ],
      "metadata": {
        "id": "sjHZYpRSBXpu"
      },
      "execution_count": null,
      "outputs": []
    },
    {
      "cell_type": "code",
      "source": [
        "#остаются договоры только позднее июня\n",
        "df_dropMay = df_MayJune[df_MayJune['receiving_date'].dt.month == 5].index\n",
        "df_dropJune = df_MayJune[df_MayJune['receiving_date'].dt.month == 6].index\n",
        "df_MayJune.drop(df_dropMay, inplace=True)\n",
        "df_MayJune.drop(df_dropJune, inplace=True)"
      ],
      "metadata": {
        "id": "DhAHRjPSM-ar"
      },
      "execution_count": null,
      "outputs": []
    },
    {
      "cell_type": "code",
      "source": [
        "#фильтр - менеджера Иванов\n",
        "df_Ivanov = df_MayJune.loc[df_MayJune['sale'] == \"Иванов\"]\n",
        "\n",
        "#фильтр для бонусов в 5% и 3%\n",
        "df_Ivanov_5pct = df_Ivanov.loc[df_Ivanov['sum'] > 10000]\n",
        "df_Ivanov_3pct = df_Ivanov.loc[df_Ivanov['sum'] < 10000]\n",
        "\n",
        "#расчет бонусов в 5% и 3%\n",
        "df_Ivanov_5pct['bonus'] = df_Ivanov_5pct['sum'] * 0.05\n",
        "df_Ivanov_3pct['bonus'] = df_Ivanov_3pct['sum'] * 0.03\n",
        "\n",
        "#суммирование 5% бонуса\n",
        "Ivanov_bonus5pct = df_Ivanov_5pct['bonus'].sum()\n",
        "#суммирование 3% бонуса\n",
        "Ivanov_bonus3pct = df_Ivanov_3pct['bonus'].sum()\n",
        "\n",
        "#окончательный расчет бонуса\n",
        "BonusIvanov = Ivanov_bonus5pct + Ivanov_bonus3pct\n",
        "\n",
        "print(BonusIvanov)"
      ],
      "metadata": {
        "colab": {
          "base_uri": "https://localhost:8080/"
        },
        "id": "cx3eVnuaX9CW",
        "outputId": "ee7e2219-2ed3-487b-aaaa-6738bc8f172e"
      },
      "execution_count": null,
      "outputs": [
        {
          "output_type": "stream",
          "name": "stdout",
          "text": [
            "5991.451999999999\n"
          ]
        }
      ]
    },
    {
      "cell_type": "code",
      "source": [
        "#фильтр - менеджер Иванов\n",
        "df_Petrova = df_MayJune.loc[df_MayJune['sale'] == \"Петрова\"]\n",
        "\n",
        "#фильтр для бонуса 7% и расчет\n",
        "df_Petrova_newDeal = df_Petrova.loc[(df_Petrova['new/current'] == \"новая\") & (df_Petrova['status'] == \"ОПЛАЧЕНО\")]\n",
        "df_Petrova_newDeal['bonus'] = df_Petrova_newDeal['sum'] * 0.07\n",
        "\n",
        "#суммирование 7% бонуса\n",
        "Petrova_bonus7pct = df_Petrova_newDeal['bonus'].sum()\n",
        "\n",
        "#фильтр для бонусов в 5% и 3%\n",
        "df_Petrova_currentDeal = df_Petrova.loc[df_Petrova['new/current'] == \"текущая\"]\n",
        "df_Petrova_5pct = df_Petrova_currentDeal.loc[df_Petrova_currentDeal['sum'] > 10000]\n",
        "df_Petrova_3pct = df_Petrova_currentDeal.loc[df_Petrova_currentDeal['sum'] < 10000]\n",
        "\n",
        "#расчет бонусов в 5% и 3%\n",
        "df_Petrova_5pct['bonus'] = df_Petrova_5pct['sum'] * 0.05\n",
        "df_Petrova_3pct['bonus'] = df_Petrova_3pct['sum'] * 0.03\n",
        "\n",
        "#суммирование 5% бонуса\n",
        "Petrova_bonus5pct = df_Petrova_5pct['bonus'].sum()\n",
        "#суммирование 3% бонуса\n",
        "Petrova_bonus3pct = df_Petrova_3pct['bonus'].sum()\n",
        "#окончательный расчет бонуса\n",
        "BonusPetrova = Petrova_bonus7pct + Petrova_bonus5pct + Petrova_bonus3pct\n",
        "\n",
        "print(BonusPetrova)"
      ],
      "metadata": {
        "colab": {
          "base_uri": "https://localhost:8080/"
        },
        "id": "KvYLCEiWfpKX",
        "outputId": "0a549c3c-4dde-430b-c07c-8daf86d2ecab"
      },
      "execution_count": null,
      "outputs": [
        {
          "output_type": "stream",
          "name": "stdout",
          "text": [
            "10871.6584\n"
          ]
        }
      ]
    },
    {
      "cell_type": "code",
      "source": [],
      "metadata": {
        "id": "lfWju0L_ffZF"
      },
      "execution_count": null,
      "outputs": []
    }
  ]
}